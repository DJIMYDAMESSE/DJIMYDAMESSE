{
 "cells": [
  {
   "cell_type": "markdown",
   "id": "bc999ebc",
   "metadata": {},
   "source": [
    "# import"
   ]
  },
  {
   "cell_type": "code",
   "execution_count": 6,
   "id": "f9abf200",
   "metadata": {},
   "outputs": [],
   "source": [
    "from sklearn.impute import SimpleImputer\n",
    "import matplotlib.pyplot as plt\n",
    "import numpy as np\n",
    "import pandas as pd\n",
    "import seaborn as sns\n",
    "import os "
   ]
  },
  {
   "cell_type": "code",
   "execution_count": 7,
   "id": "53b9a129",
   "metadata": {},
   "outputs": [],
   "source": [
    "path = r'C:\\Users\\DAMESSE\\Liens'"
   ]
  },
  {
   "cell_type": "code",
   "execution_count": 8,
   "id": "6407da3b",
   "metadata": {},
   "outputs": [],
   "source": [
    "files = [file for file in os.listdir (r'C:\\Users\\DAMESSE\\Liens')]"
   ]
  },
  {
   "cell_type": "code",
   "execution_count": 9,
   "id": "04219ae2",
   "metadata": {},
   "outputs": [
    {
     "name": "stdout",
     "output_type": "stream",
     "text": [
      "lien1.csv\n",
      "lien2.csv\n",
      "lien3.csv\n",
      "prediction.csv\n"
     ]
    }
   ],
   "source": [
    "for file in files:\n",
    "    print (file)"
   ]
  },
  {
   "cell_type": "code",
   "execution_count": 13,
   "id": "0f5407d9",
   "metadata": {},
   "outputs": [
    {
     "data": {
      "text/html": [
       "<div>\n",
       "<style scoped>\n",
       "    .dataframe tbody tr th:only-of-type {\n",
       "        vertical-align: middle;\n",
       "    }\n",
       "\n",
       "    .dataframe tbody tr th {\n",
       "        vertical-align: top;\n",
       "    }\n",
       "\n",
       "    .dataframe thead th {\n",
       "        text-align: right;\n",
       "    }\n",
       "</style>\n",
       "<table border=\"1\" class=\"dataframe\">\n",
       "  <thead>\n",
       "    <tr style=\"text-align: right;\">\n",
       "      <th></th>\n",
       "      <th>Bandwidth1 [Mbps] - Tx - MAX</th>\n",
       "      <th>Utilization1 [%] - Tx - MAX</th>\n",
       "      <th>Rate1 [Mbps] - Tx - MAX</th>\n",
       "      <th>date</th>\n",
       "    </tr>\n",
       "  </thead>\n",
       "  <tbody>\n",
       "    <tr>\n",
       "      <th>0</th>\n",
       "      <td>108.12</td>\n",
       "      <td>41.98</td>\n",
       "      <td>45.40</td>\n",
       "      <td>01/01/2021</td>\n",
       "    </tr>\n",
       "    <tr>\n",
       "      <th>1</th>\n",
       "      <td>108.12</td>\n",
       "      <td>41.63</td>\n",
       "      <td>45.01</td>\n",
       "      <td>02/01/2021</td>\n",
       "    </tr>\n",
       "    <tr>\n",
       "      <th>2</th>\n",
       "      <td>108.12</td>\n",
       "      <td>44.34</td>\n",
       "      <td>47.95</td>\n",
       "      <td>03/01/2021</td>\n",
       "    </tr>\n",
       "    <tr>\n",
       "      <th>3</th>\n",
       "      <td>108.12</td>\n",
       "      <td>42.29</td>\n",
       "      <td>45.72</td>\n",
       "      <td>04/01/2021</td>\n",
       "    </tr>\n",
       "    <tr>\n",
       "      <th>4</th>\n",
       "      <td>108.12</td>\n",
       "      <td>48.47</td>\n",
       "      <td>52.41</td>\n",
       "      <td>01/02/2021</td>\n",
       "    </tr>\n",
       "    <tr>\n",
       "      <th>...</th>\n",
       "      <td>...</td>\n",
       "      <td>...</td>\n",
       "      <td>...</td>\n",
       "      <td>...</td>\n",
       "    </tr>\n",
       "    <tr>\n",
       "      <th>103</th>\n",
       "      <td>108.12</td>\n",
       "      <td>65.25</td>\n",
       "      <td>70.55</td>\n",
       "      <td>04/02/2023</td>\n",
       "    </tr>\n",
       "    <tr>\n",
       "      <th>104</th>\n",
       "      <td>108.12</td>\n",
       "      <td>67.27</td>\n",
       "      <td>72.74</td>\n",
       "      <td>01/03/2023</td>\n",
       "    </tr>\n",
       "    <tr>\n",
       "      <th>105</th>\n",
       "      <td>108.12</td>\n",
       "      <td>64.23</td>\n",
       "      <td>69.45</td>\n",
       "      <td>02/03/2023</td>\n",
       "    </tr>\n",
       "    <tr>\n",
       "      <th>106</th>\n",
       "      <td>108.12</td>\n",
       "      <td>64.11</td>\n",
       "      <td>69.32</td>\n",
       "      <td>03/03/2023</td>\n",
       "    </tr>\n",
       "    <tr>\n",
       "      <th>107</th>\n",
       "      <td>108.12</td>\n",
       "      <td>62.19</td>\n",
       "      <td>67.24</td>\n",
       "      <td>04/03/2023</td>\n",
       "    </tr>\n",
       "  </tbody>\n",
       "</table>\n",
       "<p>108 rows × 4 columns</p>\n",
       "</div>"
      ],
      "text/plain": [
       "     Bandwidth1 [Mbps] - Tx - MAX  Utilization1 [%] - Tx - MAX  \\\n",
       "0                          108.12                        41.98   \n",
       "1                          108.12                        41.63   \n",
       "2                          108.12                        44.34   \n",
       "3                          108.12                        42.29   \n",
       "4                          108.12                        48.47   \n",
       "..                            ...                          ...   \n",
       "103                        108.12                        65.25   \n",
       "104                        108.12                        67.27   \n",
       "105                        108.12                        64.23   \n",
       "106                        108.12                        64.11   \n",
       "107                        108.12                        62.19   \n",
       "\n",
       "     Rate1 [Mbps] - Tx - MAX        date  \n",
       "0                      45.40  01/01/2021  \n",
       "1                      45.01  02/01/2021  \n",
       "2                      47.95  03/01/2021  \n",
       "3                      45.72  04/01/2021  \n",
       "4                      52.41  01/02/2021  \n",
       "..                       ...         ...  \n",
       "103                    70.55  04/02/2023  \n",
       "104                    72.74  01/03/2023  \n",
       "105                    69.45  02/03/2023  \n",
       "106                    69.32  03/03/2023  \n",
       "107                    67.24  04/03/2023  \n",
       "\n",
       "[108 rows x 4 columns]"
      ]
     },
     "execution_count": 13,
     "metadata": {},
     "output_type": "execute_result"
    }
   ],
   "source": [
    "df = pd.read_csv(path +'\\\\'+'lien1.csv', sep=\";\")\n",
    "df"
   ]
  },
  {
   "cell_type": "code",
   "execution_count": 14,
   "id": "c9d6dc8a",
   "metadata": {},
   "outputs": [
    {
     "data": {
      "text/html": [
       "<div>\n",
       "<style scoped>\n",
       "    .dataframe tbody tr th:only-of-type {\n",
       "        vertical-align: middle;\n",
       "    }\n",
       "\n",
       "    .dataframe tbody tr th {\n",
       "        vertical-align: top;\n",
       "    }\n",
       "\n",
       "    .dataframe thead th {\n",
       "        text-align: right;\n",
       "    }\n",
       "</style>\n",
       "<table border=\"1\" class=\"dataframe\">\n",
       "  <thead>\n",
       "    <tr style=\"text-align: right;\">\n",
       "      <th></th>\n",
       "      <th>Bandwidth1 [Mbps] - Tx - MAX</th>\n",
       "      <th>Utilization1 [%] - Tx - MAX</th>\n",
       "      <th>Rate1 [Mbps] - Tx - MAX</th>\n",
       "      <th>date</th>\n",
       "    </tr>\n",
       "  </thead>\n",
       "  <tbody>\n",
       "    <tr>\n",
       "      <th>0</th>\n",
       "      <td>181.27</td>\n",
       "      <td>52.70</td>\n",
       "      <td>95.54</td>\n",
       "      <td>01/01/2021</td>\n",
       "    </tr>\n",
       "    <tr>\n",
       "      <th>1</th>\n",
       "      <td>181.27</td>\n",
       "      <td>53.76</td>\n",
       "      <td>97.45</td>\n",
       "      <td>02/01/2021</td>\n",
       "    </tr>\n",
       "    <tr>\n",
       "      <th>2</th>\n",
       "      <td>181.27</td>\n",
       "      <td>50.84</td>\n",
       "      <td>92.17</td>\n",
       "      <td>03/01/2021</td>\n",
       "    </tr>\n",
       "    <tr>\n",
       "      <th>3</th>\n",
       "      <td>181.27</td>\n",
       "      <td>52.01</td>\n",
       "      <td>94.29</td>\n",
       "      <td>04/01/2021</td>\n",
       "    </tr>\n",
       "    <tr>\n",
       "      <th>4</th>\n",
       "      <td>181.27</td>\n",
       "      <td>51.80</td>\n",
       "      <td>93.91</td>\n",
       "      <td>01/02/2021</td>\n",
       "    </tr>\n",
       "    <tr>\n",
       "      <th>...</th>\n",
       "      <td>...</td>\n",
       "      <td>...</td>\n",
       "      <td>...</td>\n",
       "      <td>...</td>\n",
       "    </tr>\n",
       "    <tr>\n",
       "      <th>103</th>\n",
       "      <td>181.27</td>\n",
       "      <td>62.62</td>\n",
       "      <td>113.51</td>\n",
       "      <td>04/02/2023</td>\n",
       "    </tr>\n",
       "    <tr>\n",
       "      <th>104</th>\n",
       "      <td>181.27</td>\n",
       "      <td>71.51</td>\n",
       "      <td>129.63</td>\n",
       "      <td>01/03/2023</td>\n",
       "    </tr>\n",
       "    <tr>\n",
       "      <th>105</th>\n",
       "      <td>181.27</td>\n",
       "      <td>67.55</td>\n",
       "      <td>122.45</td>\n",
       "      <td>02/03/2023</td>\n",
       "    </tr>\n",
       "    <tr>\n",
       "      <th>106</th>\n",
       "      <td>181.27</td>\n",
       "      <td>62.81</td>\n",
       "      <td>113.86</td>\n",
       "      <td>03/03/2023</td>\n",
       "    </tr>\n",
       "    <tr>\n",
       "      <th>107</th>\n",
       "      <td>181.27</td>\n",
       "      <td>64.81</td>\n",
       "      <td>117.48</td>\n",
       "      <td>04/03/2023</td>\n",
       "    </tr>\n",
       "  </tbody>\n",
       "</table>\n",
       "<p>108 rows × 4 columns</p>\n",
       "</div>"
      ],
      "text/plain": [
       "     Bandwidth1 [Mbps] - Tx - MAX  Utilization1 [%] - Tx - MAX  \\\n",
       "0                          181.27                        52.70   \n",
       "1                          181.27                        53.76   \n",
       "2                          181.27                        50.84   \n",
       "3                          181.27                        52.01   \n",
       "4                          181.27                        51.80   \n",
       "..                            ...                          ...   \n",
       "103                        181.27                        62.62   \n",
       "104                        181.27                        71.51   \n",
       "105                        181.27                        67.55   \n",
       "106                        181.27                        62.81   \n",
       "107                        181.27                        64.81   \n",
       "\n",
       "     Rate1 [Mbps] - Tx - MAX        date  \n",
       "0                      95.54  01/01/2021  \n",
       "1                      97.45  02/01/2021  \n",
       "2                      92.17  03/01/2021  \n",
       "3                      94.29  04/01/2021  \n",
       "4                      93.91  01/02/2021  \n",
       "..                       ...         ...  \n",
       "103                   113.51  04/02/2023  \n",
       "104                   129.63  01/03/2023  \n",
       "105                   122.45  02/03/2023  \n",
       "106                   113.86  03/03/2023  \n",
       "107                   117.48  04/03/2023  \n",
       "\n",
       "[108 rows x 4 columns]"
      ]
     },
     "execution_count": 14,
     "metadata": {},
     "output_type": "execute_result"
    }
   ],
   "source": [
    "df1 = pd.read_csv(path +'\\\\'+'lien2.csv', sep=\";\")\n",
    "df1"
   ]
  },
  {
   "cell_type": "code",
   "execution_count": 15,
   "id": "439bf22d",
   "metadata": {},
   "outputs": [
    {
     "data": {
      "text/html": [
       "<div>\n",
       "<style scoped>\n",
       "    .dataframe tbody tr th:only-of-type {\n",
       "        vertical-align: middle;\n",
       "    }\n",
       "\n",
       "    .dataframe tbody tr th {\n",
       "        vertical-align: top;\n",
       "    }\n",
       "\n",
       "    .dataframe thead th {\n",
       "        text-align: right;\n",
       "    }\n",
       "</style>\n",
       "<table border=\"1\" class=\"dataframe\">\n",
       "  <thead>\n",
       "    <tr style=\"text-align: right;\">\n",
       "      <th></th>\n",
       "      <th>Bandwidth1 [Mbps] - Tx - MAX</th>\n",
       "      <th>Utilization1 [%] - Tx - MAX</th>\n",
       "      <th>Rate1 [Mbps] - Tx - MAX</th>\n",
       "      <th>date</th>\n",
       "    </tr>\n",
       "  </thead>\n",
       "  <tbody>\n",
       "    <tr>\n",
       "      <th>0</th>\n",
       "      <td>152.09</td>\n",
       "      <td>98.16</td>\n",
       "      <td>149.30</td>\n",
       "      <td>01/01/2021</td>\n",
       "    </tr>\n",
       "    <tr>\n",
       "      <th>1</th>\n",
       "      <td>152.09</td>\n",
       "      <td>98.11</td>\n",
       "      <td>149.23</td>\n",
       "      <td>02/01/2021</td>\n",
       "    </tr>\n",
       "    <tr>\n",
       "      <th>2</th>\n",
       "      <td>152.09</td>\n",
       "      <td>98.28</td>\n",
       "      <td>149.48</td>\n",
       "      <td>03/01/2021</td>\n",
       "    </tr>\n",
       "    <tr>\n",
       "      <th>3</th>\n",
       "      <td>152.09</td>\n",
       "      <td>98.80</td>\n",
       "      <td>150.27</td>\n",
       "      <td>04/01/2021</td>\n",
       "    </tr>\n",
       "    <tr>\n",
       "      <th>4</th>\n",
       "      <td>152.09</td>\n",
       "      <td>97.61</td>\n",
       "      <td>148.46</td>\n",
       "      <td>01/02/2021</td>\n",
       "    </tr>\n",
       "    <tr>\n",
       "      <th>...</th>\n",
       "      <td>...</td>\n",
       "      <td>...</td>\n",
       "      <td>...</td>\n",
       "      <td>...</td>\n",
       "    </tr>\n",
       "    <tr>\n",
       "      <th>103</th>\n",
       "      <td>304.38</td>\n",
       "      <td>56.71</td>\n",
       "      <td>172.62</td>\n",
       "      <td>04/02/2023</td>\n",
       "    </tr>\n",
       "    <tr>\n",
       "      <th>104</th>\n",
       "      <td>304.38</td>\n",
       "      <td>59.68</td>\n",
       "      <td>181.67</td>\n",
       "      <td>01/03/2023</td>\n",
       "    </tr>\n",
       "    <tr>\n",
       "      <th>105</th>\n",
       "      <td>304.38</td>\n",
       "      <td>43.64</td>\n",
       "      <td>132.84</td>\n",
       "      <td>02/03/2023</td>\n",
       "    </tr>\n",
       "    <tr>\n",
       "      <th>106</th>\n",
       "      <td>304.38</td>\n",
       "      <td>41.11</td>\n",
       "      <td>125.15</td>\n",
       "      <td>03/03/2023</td>\n",
       "    </tr>\n",
       "    <tr>\n",
       "      <th>107</th>\n",
       "      <td>304.38</td>\n",
       "      <td>51.35</td>\n",
       "      <td>156.31</td>\n",
       "      <td>04/03/2023</td>\n",
       "    </tr>\n",
       "  </tbody>\n",
       "</table>\n",
       "<p>108 rows × 4 columns</p>\n",
       "</div>"
      ],
      "text/plain": [
       "     Bandwidth1 [Mbps] - Tx - MAX  Utilization1 [%] - Tx - MAX  \\\n",
       "0                          152.09                        98.16   \n",
       "1                          152.09                        98.11   \n",
       "2                          152.09                        98.28   \n",
       "3                          152.09                        98.80   \n",
       "4                          152.09                        97.61   \n",
       "..                            ...                          ...   \n",
       "103                        304.38                        56.71   \n",
       "104                        304.38                        59.68   \n",
       "105                        304.38                        43.64   \n",
       "106                        304.38                        41.11   \n",
       "107                        304.38                        51.35   \n",
       "\n",
       "     Rate1 [Mbps] - Tx - MAX        date  \n",
       "0                     149.30  01/01/2021  \n",
       "1                     149.23  02/01/2021  \n",
       "2                     149.48  03/01/2021  \n",
       "3                     150.27  04/01/2021  \n",
       "4                     148.46  01/02/2021  \n",
       "..                       ...         ...  \n",
       "103                   172.62  04/02/2023  \n",
       "104                   181.67  01/03/2023  \n",
       "105                   132.84  02/03/2023  \n",
       "106                   125.15  03/03/2023  \n",
       "107                   156.31  04/03/2023  \n",
       "\n",
       "[108 rows x 4 columns]"
      ]
     },
     "execution_count": 15,
     "metadata": {},
     "output_type": "execute_result"
    }
   ],
   "source": [
    "df2 = pd.read_csv(path +'\\\\'+'lien3.csv', sep=\";\")\n",
    "df2"
   ]
  },
  {
   "cell_type": "code",
   "execution_count": 18,
   "id": "45f03830",
   "metadata": {},
   "outputs": [
    {
     "data": {
      "text/html": [
       "<div>\n",
       "<style scoped>\n",
       "    .dataframe tbody tr th:only-of-type {\n",
       "        vertical-align: middle;\n",
       "    }\n",
       "\n",
       "    .dataframe tbody tr th {\n",
       "        vertical-align: top;\n",
       "    }\n",
       "\n",
       "    .dataframe thead th {\n",
       "        text-align: right;\n",
       "    }\n",
       "</style>\n",
       "<table border=\"1\" class=\"dataframe\">\n",
       "  <thead>\n",
       "    <tr style=\"text-align: right;\">\n",
       "      <th></th>\n",
       "      <th>Bandwidth1 [Mbps] - Tx - MAX</th>\n",
       "      <th>Utilization1 [%] - Tx - MAX</th>\n",
       "      <th>Rate1 [Mbps] - Tx - MAX</th>\n",
       "      <th>date</th>\n",
       "    </tr>\n",
       "  </thead>\n",
       "  <tbody>\n",
       "    <tr>\n",
       "      <th>0</th>\n",
       "      <td>360.44</td>\n",
       "      <td>38.58</td>\n",
       "      <td>139.07</td>\n",
       "      <td>01/01/2021</td>\n",
       "    </tr>\n",
       "    <tr>\n",
       "      <th>1</th>\n",
       "      <td>360.44</td>\n",
       "      <td>41.58</td>\n",
       "      <td>149.89</td>\n",
       "      <td>02/01/2021</td>\n",
       "    </tr>\n",
       "    <tr>\n",
       "      <th>2</th>\n",
       "      <td>360.44</td>\n",
       "      <td>39.07</td>\n",
       "      <td>140.85</td>\n",
       "      <td>03/01/2021</td>\n",
       "    </tr>\n",
       "    <tr>\n",
       "      <th>3</th>\n",
       "      <td>360.44</td>\n",
       "      <td>38.24</td>\n",
       "      <td>137.86</td>\n",
       "      <td>04/01/2021</td>\n",
       "    </tr>\n",
       "    <tr>\n",
       "      <th>4</th>\n",
       "      <td>360.44</td>\n",
       "      <td>41.67</td>\n",
       "      <td>150.20</td>\n",
       "      <td>01/02/2021</td>\n",
       "    </tr>\n",
       "    <tr>\n",
       "      <th>...</th>\n",
       "      <td>...</td>\n",
       "      <td>...</td>\n",
       "      <td>...</td>\n",
       "      <td>...</td>\n",
       "    </tr>\n",
       "    <tr>\n",
       "      <th>103</th>\n",
       "      <td>360.44</td>\n",
       "      <td>49.50</td>\n",
       "      <td>178.44</td>\n",
       "      <td>04/02/2023</td>\n",
       "    </tr>\n",
       "    <tr>\n",
       "      <th>104</th>\n",
       "      <td>360.44</td>\n",
       "      <td>48.71</td>\n",
       "      <td>175.57</td>\n",
       "      <td>01/03/2023</td>\n",
       "    </tr>\n",
       "    <tr>\n",
       "      <th>105</th>\n",
       "      <td>360.44</td>\n",
       "      <td>54.95</td>\n",
       "      <td>198.09</td>\n",
       "      <td>02/03/2023</td>\n",
       "    </tr>\n",
       "    <tr>\n",
       "      <th>106</th>\n",
       "      <td>360.44</td>\n",
       "      <td>63.19</td>\n",
       "      <td>227.79</td>\n",
       "      <td>03/03/2023</td>\n",
       "    </tr>\n",
       "    <tr>\n",
       "      <th>107</th>\n",
       "      <td>360.44</td>\n",
       "      <td>63.17</td>\n",
       "      <td>227.72</td>\n",
       "      <td>04/03/2023</td>\n",
       "    </tr>\n",
       "  </tbody>\n",
       "</table>\n",
       "<p>108 rows × 4 columns</p>\n",
       "</div>"
      ],
      "text/plain": [
       "     Bandwidth1 [Mbps] - Tx - MAX  Utilization1 [%] - Tx - MAX  \\\n",
       "0                          360.44                        38.58   \n",
       "1                          360.44                        41.58   \n",
       "2                          360.44                        39.07   \n",
       "3                          360.44                        38.24   \n",
       "4                          360.44                        41.67   \n",
       "..                            ...                          ...   \n",
       "103                        360.44                        49.50   \n",
       "104                        360.44                        48.71   \n",
       "105                        360.44                        54.95   \n",
       "106                        360.44                        63.19   \n",
       "107                        360.44                        63.17   \n",
       "\n",
       "     Rate1 [Mbps] - Tx - MAX        date  \n",
       "0                     139.07  01/01/2021  \n",
       "1                     149.89  02/01/2021  \n",
       "2                     140.85  03/01/2021  \n",
       "3                     137.86  04/01/2021  \n",
       "4                     150.20  01/02/2021  \n",
       "..                       ...         ...  \n",
       "103                   178.44  04/02/2023  \n",
       "104                   175.57  01/03/2023  \n",
       "105                   198.09  02/03/2023  \n",
       "106                   227.79  03/03/2023  \n",
       "107                   227.72  04/03/2023  \n",
       "\n",
       "[108 rows x 4 columns]"
      ]
     },
     "execution_count": 18,
     "metadata": {},
     "output_type": "execute_result"
    }
   ],
   "source": [
    "data = pd.read_csv(path +'\\\\'+'prediction.csv', sep=\";\")\n",
    "data"
   ]
  },
  {
   "cell_type": "code",
   "execution_count": 4,
   "id": "f72ff14c",
   "metadata": {},
   "outputs": [],
   "source": [
    "# Supprime les erreurs de colonnes innexistantes\n",
    "data = data.drop(columns=['Unnamed: 4','Unnamed: 5'])"
   ]
  },
  {
   "cell_type": "code",
   "execution_count": 5,
   "id": "35204daf",
   "metadata": {},
   "outputs": [
    {
     "data": {
      "text/html": [
       "<div>\n",
       "<style scoped>\n",
       "    .dataframe tbody tr th:only-of-type {\n",
       "        vertical-align: middle;\n",
       "    }\n",
       "\n",
       "    .dataframe tbody tr th {\n",
       "        vertical-align: top;\n",
       "    }\n",
       "\n",
       "    .dataframe thead th {\n",
       "        text-align: right;\n",
       "    }\n",
       "</style>\n",
       "<table border=\"1\" class=\"dataframe\">\n",
       "  <thead>\n",
       "    <tr style=\"text-align: right;\">\n",
       "      <th></th>\n",
       "      <th>Bandwidth1 [Mbps] - Tx - MAX</th>\n",
       "      <th>Utilization1 [%] - Tx - MAX</th>\n",
       "      <th>Rate1 [Mbps] - Tx - MAX</th>\n",
       "      <th>date</th>\n",
       "    </tr>\n",
       "  </thead>\n",
       "  <tbody>\n",
       "    <tr>\n",
       "      <th>0</th>\n",
       "      <td>360.44</td>\n",
       "      <td>38.58</td>\n",
       "      <td>139.07</td>\n",
       "      <td>2021-1-1</td>\n",
       "    </tr>\n",
       "    <tr>\n",
       "      <th>1</th>\n",
       "      <td>360.44</td>\n",
       "      <td>41.58</td>\n",
       "      <td>149.89</td>\n",
       "      <td>2021-1-2</td>\n",
       "    </tr>\n",
       "    <tr>\n",
       "      <th>2</th>\n",
       "      <td>360.44</td>\n",
       "      <td>39.07</td>\n",
       "      <td>140.85</td>\n",
       "      <td>2021-1-3</td>\n",
       "    </tr>\n",
       "    <tr>\n",
       "      <th>3</th>\n",
       "      <td>360.44</td>\n",
       "      <td>38.24</td>\n",
       "      <td>137.86</td>\n",
       "      <td>2021-1-4</td>\n",
       "    </tr>\n",
       "    <tr>\n",
       "      <th>4</th>\n",
       "      <td>360.44</td>\n",
       "      <td>41.67</td>\n",
       "      <td>150.20</td>\n",
       "      <td>2021-2-1</td>\n",
       "    </tr>\n",
       "  </tbody>\n",
       "</table>\n",
       "</div>"
      ],
      "text/plain": [
       "   Bandwidth1 [Mbps] - Tx - MAX  Utilization1 [%] - Tx - MAX  \\\n",
       "0                        360.44                        38.58   \n",
       "1                        360.44                        41.58   \n",
       "2                        360.44                        39.07   \n",
       "3                        360.44                        38.24   \n",
       "4                        360.44                        41.67   \n",
       "\n",
       "   Rate1 [Mbps] - Tx - MAX      date  \n",
       "0                   139.07  2021-1-1  \n",
       "1                   149.89  2021-1-2  \n",
       "2                   140.85  2021-1-3  \n",
       "3                   137.86  2021-1-4  \n",
       "4                   150.20  2021-2-1  "
      ]
     },
     "execution_count": 5,
     "metadata": {},
     "output_type": "execute_result"
    }
   ],
   "source": [
    "data.head()"
   ]
  },
  {
   "cell_type": "markdown",
   "id": "d3ac5c73",
   "metadata": {},
   "source": [
    "# Analyse exploratoire"
   ]
  },
  {
   "cell_type": "code",
   "execution_count": 6,
   "id": "ac809c82",
   "metadata": {},
   "outputs": [],
   "source": [
    "# Convertir la colonne data en date puis en timestamp pour les calculs\n",
    "data[\"date\"] = pd.to_datetime(data[\"date\"])\n",
    "data[\"date\"] = pd.to_numeric(data[\"date\"])"
   ]
  },
  {
   "cell_type": "code",
   "execution_count": 7,
   "id": "69c1d010",
   "metadata": {},
   "outputs": [
    {
     "data": {
      "text/plain": [
       "Bandwidth1 [Mbps] - Tx - MAX    float64\n",
       "Utilization1 [%] - Tx - MAX     float64\n",
       "Rate1 [Mbps] - Tx - MAX         float64\n",
       "date                              int64\n",
       "dtype: object"
      ]
     },
     "execution_count": 7,
     "metadata": {},
     "output_type": "execute_result"
    }
   ],
   "source": [
    "# Type\n",
    "data.dtypes"
   ]
  },
  {
   "cell_type": "code",
   "execution_count": 8,
   "id": "c2bc939f",
   "metadata": {},
   "outputs": [
    {
     "data": {
      "text/html": [
       "<div>\n",
       "<style scoped>\n",
       "    .dataframe tbody tr th:only-of-type {\n",
       "        vertical-align: middle;\n",
       "    }\n",
       "\n",
       "    .dataframe tbody tr th {\n",
       "        vertical-align: top;\n",
       "    }\n",
       "\n",
       "    .dataframe thead th {\n",
       "        text-align: right;\n",
       "    }\n",
       "</style>\n",
       "<table border=\"1\" class=\"dataframe\">\n",
       "  <thead>\n",
       "    <tr style=\"text-align: right;\">\n",
       "      <th></th>\n",
       "      <th>Bandwidth1 [Mbps] - Tx - MAX</th>\n",
       "      <th>Utilization1 [%] - Tx - MAX</th>\n",
       "      <th>Rate1 [Mbps] - Tx - MAX</th>\n",
       "      <th>date</th>\n",
       "    </tr>\n",
       "  </thead>\n",
       "  <tbody>\n",
       "    <tr>\n",
       "      <th>0</th>\n",
       "      <td>360.44</td>\n",
       "      <td>38.58</td>\n",
       "      <td>139.07</td>\n",
       "      <td>1609459200000000000</td>\n",
       "    </tr>\n",
       "    <tr>\n",
       "      <th>1</th>\n",
       "      <td>360.44</td>\n",
       "      <td>41.58</td>\n",
       "      <td>149.89</td>\n",
       "      <td>1609545600000000000</td>\n",
       "    </tr>\n",
       "    <tr>\n",
       "      <th>2</th>\n",
       "      <td>360.44</td>\n",
       "      <td>39.07</td>\n",
       "      <td>140.85</td>\n",
       "      <td>1609632000000000000</td>\n",
       "    </tr>\n",
       "    <tr>\n",
       "      <th>3</th>\n",
       "      <td>360.44</td>\n",
       "      <td>38.24</td>\n",
       "      <td>137.86</td>\n",
       "      <td>1609718400000000000</td>\n",
       "    </tr>\n",
       "    <tr>\n",
       "      <th>4</th>\n",
       "      <td>360.44</td>\n",
       "      <td>41.67</td>\n",
       "      <td>150.20</td>\n",
       "      <td>1612137600000000000</td>\n",
       "    </tr>\n",
       "  </tbody>\n",
       "</table>\n",
       "</div>"
      ],
      "text/plain": [
       "   Bandwidth1 [Mbps] - Tx - MAX  Utilization1 [%] - Tx - MAX  \\\n",
       "0                        360.44                        38.58   \n",
       "1                        360.44                        41.58   \n",
       "2                        360.44                        39.07   \n",
       "3                        360.44                        38.24   \n",
       "4                        360.44                        41.67   \n",
       "\n",
       "   Rate1 [Mbps] - Tx - MAX                 date  \n",
       "0                   139.07  1609459200000000000  \n",
       "1                   149.89  1609545600000000000  \n",
       "2                   140.85  1609632000000000000  \n",
       "3                   137.86  1609718400000000000  \n",
       "4                   150.20  1612137600000000000  "
      ]
     },
     "execution_count": 8,
     "metadata": {},
     "output_type": "execute_result"
    }
   ],
   "source": [
    "data.head()"
   ]
  },
  {
   "cell_type": "code",
   "execution_count": 9,
   "id": "fa0df8c3",
   "metadata": {},
   "outputs": [
    {
     "data": {
      "text/plain": [
       "Bandwidth1 [Mbps] - Tx - MAX    1\n",
       "Utilization1 [%] - Tx - MAX     1\n",
       "Rate1 [Mbps] - Tx - MAX         1\n",
       "date                            0\n",
       "dtype: int64"
      ]
     },
     "execution_count": 9,
     "metadata": {},
     "output_type": "execute_result"
    }
   ],
   "source": [
    "# Verifier les valeurs manquantes\n",
    "data.isna().sum()"
   ]
  },
  {
   "cell_type": "code",
   "execution_count": 10,
   "id": "c92f2055",
   "metadata": {},
   "outputs": [
    {
     "data": {
      "text/plain": [
       "0"
      ]
     },
     "execution_count": 10,
     "metadata": {},
     "output_type": "execute_result"
    }
   ],
   "source": [
    "# Verifier les valeurs dupliquées\n",
    "data.duplicated().sum()"
   ]
  },
  {
   "cell_type": "code",
   "execution_count": 11,
   "id": "ff81a92e",
   "metadata": {},
   "outputs": [
    {
     "data": {
      "text/html": [
       "<div>\n",
       "<style scoped>\n",
       "    .dataframe tbody tr th:only-of-type {\n",
       "        vertical-align: middle;\n",
       "    }\n",
       "\n",
       "    .dataframe tbody tr th {\n",
       "        vertical-align: top;\n",
       "    }\n",
       "\n",
       "    .dataframe thead th {\n",
       "        text-align: right;\n",
       "    }\n",
       "</style>\n",
       "<table border=\"1\" class=\"dataframe\">\n",
       "  <thead>\n",
       "    <tr style=\"text-align: right;\">\n",
       "      <th></th>\n",
       "      <th>Bandwidth1 [Mbps] - Tx - MAX</th>\n",
       "      <th>Utilization1 [%] - Tx - MAX</th>\n",
       "      <th>Rate1 [Mbps] - Tx - MAX</th>\n",
       "      <th>date</th>\n",
       "    </tr>\n",
       "  </thead>\n",
       "  <tbody>\n",
       "    <tr>\n",
       "      <th>count</th>\n",
       "      <td>107.000000</td>\n",
       "      <td>107.000000</td>\n",
       "      <td>107.000000</td>\n",
       "      <td>1.080000e+02</td>\n",
       "    </tr>\n",
       "    <tr>\n",
       "      <th>mean</th>\n",
       "      <td>357.071402</td>\n",
       "      <td>50.772804</td>\n",
       "      <td>163.836822</td>\n",
       "      <td>1.643688e+18</td>\n",
       "    </tr>\n",
       "    <tr>\n",
       "      <th>std</th>\n",
       "      <td>24.522673</td>\n",
       "      <td>15.721304</td>\n",
       "      <td>21.303921</td>\n",
       "      <td>2.057010e+16</td>\n",
       "    </tr>\n",
       "    <tr>\n",
       "      <th>min</th>\n",
       "      <td>180.220000</td>\n",
       "      <td>34.560000</td>\n",
       "      <td>124.590000</td>\n",
       "      <td>1.609459e+18</td>\n",
       "    </tr>\n",
       "    <tr>\n",
       "      <th>25%</th>\n",
       "      <td>360.440000</td>\n",
       "      <td>42.180000</td>\n",
       "      <td>152.050000</td>\n",
       "      <td>1.625335e+18</td>\n",
       "    </tr>\n",
       "    <tr>\n",
       "      <th>50%</th>\n",
       "      <td>360.440000</td>\n",
       "      <td>45.040000</td>\n",
       "      <td>160.720000</td>\n",
       "      <td>1.643803e+18</td>\n",
       "    </tr>\n",
       "    <tr>\n",
       "      <th>75%</th>\n",
       "      <td>360.440000</td>\n",
       "      <td>48.850000</td>\n",
       "      <td>169.430000</td>\n",
       "      <td>1.662012e+18</td>\n",
       "    </tr>\n",
       "    <tr>\n",
       "      <th>max</th>\n",
       "      <td>360.440000</td>\n",
       "      <td>96.580000</td>\n",
       "      <td>278.300000</td>\n",
       "      <td>1.677888e+18</td>\n",
       "    </tr>\n",
       "  </tbody>\n",
       "</table>\n",
       "</div>"
      ],
      "text/plain": [
       "       Bandwidth1 [Mbps] - Tx - MAX  Utilization1 [%] - Tx - MAX  \\\n",
       "count                    107.000000                   107.000000   \n",
       "mean                     357.071402                    50.772804   \n",
       "std                       24.522673                    15.721304   \n",
       "min                      180.220000                    34.560000   \n",
       "25%                      360.440000                    42.180000   \n",
       "50%                      360.440000                    45.040000   \n",
       "75%                      360.440000                    48.850000   \n",
       "max                      360.440000                    96.580000   \n",
       "\n",
       "       Rate1 [Mbps] - Tx - MAX          date  \n",
       "count               107.000000  1.080000e+02  \n",
       "mean                163.836822  1.643688e+18  \n",
       "std                  21.303921  2.057010e+16  \n",
       "min                 124.590000  1.609459e+18  \n",
       "25%                 152.050000  1.625335e+18  \n",
       "50%                 160.720000  1.643803e+18  \n",
       "75%                 169.430000  1.662012e+18  \n",
       "max                 278.300000  1.677888e+18  "
      ]
     },
     "execution_count": 11,
     "metadata": {},
     "output_type": "execute_result"
    }
   ],
   "source": [
    "# Stats descriptive\n",
    "data.describe()"
   ]
  },
  {
   "cell_type": "code",
   "execution_count": 12,
   "id": "299daf22",
   "metadata": {},
   "outputs": [
    {
     "data": {
      "text/plain": [
       "Index(['Bandwidth1 [Mbps] - Tx - MAX', 'Utilization1 [%] - Tx - MAX',\n",
       "       'Rate1 [Mbps] - Tx - MAX', 'date'],\n",
       "      dtype='object')"
      ]
     },
     "execution_count": 12,
     "metadata": {},
     "output_type": "execute_result"
    }
   ],
   "source": [
    "data.columns"
   ]
  },
  {
   "cell_type": "code",
   "execution_count": 13,
   "id": "15f40141",
   "metadata": {},
   "outputs": [],
   "source": [
    "# Renommer explicitement les colomns\n",
    "data = data.rename(columns = {\"Bandwidth1 [Mbps] - Tx - MAX\" : \"Bandwidth1_Mbps\",\n",
    "                             'Utilization1 [%] - Tx - MAX':\"Utilization1\",\n",
    "                             \"Rate1 [Mbps] - Tx - MAX\": \"Rate1_Mbps\"} )"
   ]
  },
  {
   "cell_type": "code",
   "execution_count": 14,
   "id": "5ee66c6c",
   "metadata": {},
   "outputs": [
    {
     "data": {
      "text/html": [
       "<div>\n",
       "<style scoped>\n",
       "    .dataframe tbody tr th:only-of-type {\n",
       "        vertical-align: middle;\n",
       "    }\n",
       "\n",
       "    .dataframe tbody tr th {\n",
       "        vertical-align: top;\n",
       "    }\n",
       "\n",
       "    .dataframe thead th {\n",
       "        text-align: right;\n",
       "    }\n",
       "</style>\n",
       "<table border=\"1\" class=\"dataframe\">\n",
       "  <thead>\n",
       "    <tr style=\"text-align: right;\">\n",
       "      <th></th>\n",
       "      <th>Bandwidth1_Mbps</th>\n",
       "      <th>Utilization1</th>\n",
       "      <th>Rate1_Mbps</th>\n",
       "      <th>date</th>\n",
       "    </tr>\n",
       "  </thead>\n",
       "  <tbody>\n",
       "    <tr>\n",
       "      <th>0</th>\n",
       "      <td>360.44</td>\n",
       "      <td>38.58</td>\n",
       "      <td>139.07</td>\n",
       "      <td>1609459200000000000</td>\n",
       "    </tr>\n",
       "    <tr>\n",
       "      <th>1</th>\n",
       "      <td>360.44</td>\n",
       "      <td>41.58</td>\n",
       "      <td>149.89</td>\n",
       "      <td>1609545600000000000</td>\n",
       "    </tr>\n",
       "    <tr>\n",
       "      <th>2</th>\n",
       "      <td>360.44</td>\n",
       "      <td>39.07</td>\n",
       "      <td>140.85</td>\n",
       "      <td>1609632000000000000</td>\n",
       "    </tr>\n",
       "    <tr>\n",
       "      <th>3</th>\n",
       "      <td>360.44</td>\n",
       "      <td>38.24</td>\n",
       "      <td>137.86</td>\n",
       "      <td>1609718400000000000</td>\n",
       "    </tr>\n",
       "    <tr>\n",
       "      <th>4</th>\n",
       "      <td>360.44</td>\n",
       "      <td>41.67</td>\n",
       "      <td>150.20</td>\n",
       "      <td>1612137600000000000</td>\n",
       "    </tr>\n",
       "  </tbody>\n",
       "</table>\n",
       "</div>"
      ],
      "text/plain": [
       "   Bandwidth1_Mbps  Utilization1  Rate1_Mbps                 date\n",
       "0           360.44         38.58      139.07  1609459200000000000\n",
       "1           360.44         41.58      149.89  1609545600000000000\n",
       "2           360.44         39.07      140.85  1609632000000000000\n",
       "3           360.44         38.24      137.86  1609718400000000000\n",
       "4           360.44         41.67      150.20  1612137600000000000"
      ]
     },
     "execution_count": 14,
     "metadata": {},
     "output_type": "execute_result"
    }
   ],
   "source": [
    "data.head()"
   ]
  },
  {
   "cell_type": "code",
   "execution_count": 15,
   "id": "6416198a",
   "metadata": {},
   "outputs": [],
   "source": [
    "columns = data.columns"
   ]
  },
  {
   "cell_type": "code",
   "execution_count": 16,
   "id": "410ea91c",
   "metadata": {},
   "outputs": [],
   "source": [
    "# Imputation des valeurs manquantes\n",
    "imputer = SimpleImputer(missing_values=np.nan, strategy='mean')\n",
    "imputer = imputer.fit(data)\n",
    "X = imputer.transform(data)"
   ]
  },
  {
   "cell_type": "code",
   "execution_count": 17,
   "id": "5c91916d",
   "metadata": {},
   "outputs": [],
   "source": [
    "data = pd.DataFrame(X,columns=columns)"
   ]
  },
  {
   "cell_type": "code",
   "execution_count": 18,
   "id": "8d43b4ff",
   "metadata": {},
   "outputs": [
    {
     "data": {
      "text/html": [
       "<div>\n",
       "<style scoped>\n",
       "    .dataframe tbody tr th:only-of-type {\n",
       "        vertical-align: middle;\n",
       "    }\n",
       "\n",
       "    .dataframe tbody tr th {\n",
       "        vertical-align: top;\n",
       "    }\n",
       "\n",
       "    .dataframe thead th {\n",
       "        text-align: right;\n",
       "    }\n",
       "</style>\n",
       "<table border=\"1\" class=\"dataframe\">\n",
       "  <thead>\n",
       "    <tr style=\"text-align: right;\">\n",
       "      <th></th>\n",
       "      <th>Bandwidth1_Mbps</th>\n",
       "      <th>Utilization1</th>\n",
       "      <th>Rate1_Mbps</th>\n",
       "      <th>date</th>\n",
       "    </tr>\n",
       "  </thead>\n",
       "  <tbody>\n",
       "    <tr>\n",
       "      <th>0</th>\n",
       "      <td>360.44</td>\n",
       "      <td>38.58</td>\n",
       "      <td>139.07</td>\n",
       "      <td>1.609459e+18</td>\n",
       "    </tr>\n",
       "    <tr>\n",
       "      <th>1</th>\n",
       "      <td>360.44</td>\n",
       "      <td>41.58</td>\n",
       "      <td>149.89</td>\n",
       "      <td>1.609546e+18</td>\n",
       "    </tr>\n",
       "    <tr>\n",
       "      <th>2</th>\n",
       "      <td>360.44</td>\n",
       "      <td>39.07</td>\n",
       "      <td>140.85</td>\n",
       "      <td>1.609632e+18</td>\n",
       "    </tr>\n",
       "    <tr>\n",
       "      <th>3</th>\n",
       "      <td>360.44</td>\n",
       "      <td>38.24</td>\n",
       "      <td>137.86</td>\n",
       "      <td>1.609718e+18</td>\n",
       "    </tr>\n",
       "    <tr>\n",
       "      <th>4</th>\n",
       "      <td>360.44</td>\n",
       "      <td>41.67</td>\n",
       "      <td>150.20</td>\n",
       "      <td>1.612138e+18</td>\n",
       "    </tr>\n",
       "  </tbody>\n",
       "</table>\n",
       "</div>"
      ],
      "text/plain": [
       "   Bandwidth1_Mbps  Utilization1  Rate1_Mbps          date\n",
       "0           360.44         38.58      139.07  1.609459e+18\n",
       "1           360.44         41.58      149.89  1.609546e+18\n",
       "2           360.44         39.07      140.85  1.609632e+18\n",
       "3           360.44         38.24      137.86  1.609718e+18\n",
       "4           360.44         41.67      150.20  1.612138e+18"
      ]
     },
     "execution_count": 18,
     "metadata": {},
     "output_type": "execute_result"
    }
   ],
   "source": [
    "data.head()"
   ]
  },
  {
   "cell_type": "code",
   "execution_count": 19,
   "id": "cd68fd49",
   "metadata": {},
   "outputs": [
    {
     "data": {
      "text/plain": [
       "Bandwidth1_Mbps    0\n",
       "Utilization1       0\n",
       "Rate1_Mbps         0\n",
       "date               0\n",
       "dtype: int64"
      ]
     },
     "execution_count": 19,
     "metadata": {},
     "output_type": "execute_result"
    }
   ],
   "source": [
    "data.isna().sum()"
   ]
  },
  {
   "cell_type": "code",
   "execution_count": 20,
   "id": "260b1f39",
   "metadata": {},
   "outputs": [
    {
     "data": {
      "text/html": [
       "<div>\n",
       "<style scoped>\n",
       "    .dataframe tbody tr th:only-of-type {\n",
       "        vertical-align: middle;\n",
       "    }\n",
       "\n",
       "    .dataframe tbody tr th {\n",
       "        vertical-align: top;\n",
       "    }\n",
       "\n",
       "    .dataframe thead th {\n",
       "        text-align: right;\n",
       "    }\n",
       "</style>\n",
       "<table border=\"1\" class=\"dataframe\">\n",
       "  <thead>\n",
       "    <tr style=\"text-align: right;\">\n",
       "      <th></th>\n",
       "      <th>Bandwidth1_Mbps</th>\n",
       "      <th>Utilization1</th>\n",
       "      <th>Rate1_Mbps</th>\n",
       "      <th>date</th>\n",
       "    </tr>\n",
       "  </thead>\n",
       "  <tbody>\n",
       "    <tr>\n",
       "      <th>count</th>\n",
       "      <td>108.000000</td>\n",
       "      <td>108.000000</td>\n",
       "      <td>108.000000</td>\n",
       "      <td>1.080000e+02</td>\n",
       "    </tr>\n",
       "    <tr>\n",
       "      <th>mean</th>\n",
       "      <td>357.071402</td>\n",
       "      <td>50.772804</td>\n",
       "      <td>163.836822</td>\n",
       "      <td>1.643688e+18</td>\n",
       "    </tr>\n",
       "    <tr>\n",
       "      <th>std</th>\n",
       "      <td>24.407812</td>\n",
       "      <td>15.647668</td>\n",
       "      <td>21.204136</td>\n",
       "      <td>2.057010e+16</td>\n",
       "    </tr>\n",
       "    <tr>\n",
       "      <th>min</th>\n",
       "      <td>180.220000</td>\n",
       "      <td>34.560000</td>\n",
       "      <td>124.590000</td>\n",
       "      <td>1.609459e+18</td>\n",
       "    </tr>\n",
       "    <tr>\n",
       "      <th>25%</th>\n",
       "      <td>360.440000</td>\n",
       "      <td>42.250000</td>\n",
       "      <td>152.310000</td>\n",
       "      <td>1.625335e+18</td>\n",
       "    </tr>\n",
       "    <tr>\n",
       "      <th>50%</th>\n",
       "      <td>360.440000</td>\n",
       "      <td>45.045000</td>\n",
       "      <td>160.840000</td>\n",
       "      <td>1.643803e+18</td>\n",
       "    </tr>\n",
       "    <tr>\n",
       "      <th>75%</th>\n",
       "      <td>360.440000</td>\n",
       "      <td>49.025000</td>\n",
       "      <td>169.255000</td>\n",
       "      <td>1.662012e+18</td>\n",
       "    </tr>\n",
       "    <tr>\n",
       "      <th>max</th>\n",
       "      <td>360.440000</td>\n",
       "      <td>96.580000</td>\n",
       "      <td>278.300000</td>\n",
       "      <td>1.677888e+18</td>\n",
       "    </tr>\n",
       "  </tbody>\n",
       "</table>\n",
       "</div>"
      ],
      "text/plain": [
       "       Bandwidth1_Mbps  Utilization1  Rate1_Mbps          date\n",
       "count       108.000000    108.000000  108.000000  1.080000e+02\n",
       "mean        357.071402     50.772804  163.836822  1.643688e+18\n",
       "std          24.407812     15.647668   21.204136  2.057010e+16\n",
       "min         180.220000     34.560000  124.590000  1.609459e+18\n",
       "25%         360.440000     42.250000  152.310000  1.625335e+18\n",
       "50%         360.440000     45.045000  160.840000  1.643803e+18\n",
       "75%         360.440000     49.025000  169.255000  1.662012e+18\n",
       "max         360.440000     96.580000  278.300000  1.677888e+18"
      ]
     },
     "execution_count": 20,
     "metadata": {},
     "output_type": "execute_result"
    }
   ],
   "source": [
    "data.describe()"
   ]
  },
  {
   "cell_type": "code",
   "execution_count": 21,
   "id": "7c89babe",
   "metadata": {},
   "outputs": [],
   "source": [
    "# Separer les labels\n",
    "X , y = data.drop(columns=\"Utilization1\"), data[\"Utilization1\"]"
   ]
  },
  {
   "cell_type": "code",
   "execution_count": 22,
   "id": "a3bb87ee",
   "metadata": {},
   "outputs": [
    {
     "data": {
      "text/plain": [
       "0    38.58\n",
       "1    41.58\n",
       "2    39.07\n",
       "3    38.24\n",
       "4    41.67\n",
       "Name: Utilization1, dtype: float64"
      ]
     },
     "execution_count": 22,
     "metadata": {},
     "output_type": "execute_result"
    }
   ],
   "source": [
    "y.head()"
   ]
  },
  {
   "cell_type": "code",
   "execution_count": 23,
   "id": "de76494d",
   "metadata": {},
   "outputs": [
    {
     "data": {
      "text/html": [
       "<div>\n",
       "<style scoped>\n",
       "    .dataframe tbody tr th:only-of-type {\n",
       "        vertical-align: middle;\n",
       "    }\n",
       "\n",
       "    .dataframe tbody tr th {\n",
       "        vertical-align: top;\n",
       "    }\n",
       "\n",
       "    .dataframe thead th {\n",
       "        text-align: right;\n",
       "    }\n",
       "</style>\n",
       "<table border=\"1\" class=\"dataframe\">\n",
       "  <thead>\n",
       "    <tr style=\"text-align: right;\">\n",
       "      <th></th>\n",
       "      <th>Bandwidth1_Mbps</th>\n",
       "      <th>Rate1_Mbps</th>\n",
       "      <th>date</th>\n",
       "    </tr>\n",
       "  </thead>\n",
       "  <tbody>\n",
       "    <tr>\n",
       "      <th>0</th>\n",
       "      <td>360.44</td>\n",
       "      <td>139.07</td>\n",
       "      <td>1.609459e+18</td>\n",
       "    </tr>\n",
       "    <tr>\n",
       "      <th>1</th>\n",
       "      <td>360.44</td>\n",
       "      <td>149.89</td>\n",
       "      <td>1.609546e+18</td>\n",
       "    </tr>\n",
       "    <tr>\n",
       "      <th>2</th>\n",
       "      <td>360.44</td>\n",
       "      <td>140.85</td>\n",
       "      <td>1.609632e+18</td>\n",
       "    </tr>\n",
       "    <tr>\n",
       "      <th>3</th>\n",
       "      <td>360.44</td>\n",
       "      <td>137.86</td>\n",
       "      <td>1.609718e+18</td>\n",
       "    </tr>\n",
       "    <tr>\n",
       "      <th>4</th>\n",
       "      <td>360.44</td>\n",
       "      <td>150.20</td>\n",
       "      <td>1.612138e+18</td>\n",
       "    </tr>\n",
       "  </tbody>\n",
       "</table>\n",
       "</div>"
      ],
      "text/plain": [
       "   Bandwidth1_Mbps  Rate1_Mbps          date\n",
       "0           360.44      139.07  1.609459e+18\n",
       "1           360.44      149.89  1.609546e+18\n",
       "2           360.44      140.85  1.609632e+18\n",
       "3           360.44      137.86  1.609718e+18\n",
       "4           360.44      150.20  1.612138e+18"
      ]
     },
     "execution_count": 23,
     "metadata": {},
     "output_type": "execute_result"
    }
   ],
   "source": [
    "X.head()"
   ]
  },
  {
   "cell_type": "code",
   "execution_count": 24,
   "id": "88dd542b",
   "metadata": {},
   "outputs": [],
   "source": [
    "#Normaliser les données\n",
    "from sklearn.preprocessing import MinMaxScaler\n",
    "\n",
    "# Appliquer sur les explicatives\n",
    "minmax_scale_X = MinMaxScaler().fit(X)\n",
    "X = minmax_scale_X.transform(X)\n",
    "\n",
    "y = pd.DataFrame(np.array(y), columns=[\"Utilization1\"])\n",
    "\n",
    "# Appliquer sur le label\n",
    "minmax_scale_y = MinMaxScaler().fit(y)\n",
    "y = minmax_scale_y.transform(y)\n",
    "y = pd.DataFrame(np.array(y), columns=[\"Utilization1\"])"
   ]
  },
  {
   "cell_type": "code",
   "execution_count": 25,
   "id": "99ab5e56",
   "metadata": {},
   "outputs": [],
   "source": [
    "data = pd.DataFrame(X,columns=[\"Bandwidth1_Mbps\",\"Rate1_Mbps\", \"date\"])\n",
    "data = pd.concat([data, y], axis=1)"
   ]
  },
  {
   "cell_type": "code",
   "execution_count": 26,
   "id": "7efe4d04",
   "metadata": {},
   "outputs": [
    {
     "data": {
      "text/html": [
       "<div>\n",
       "<style scoped>\n",
       "    .dataframe tbody tr th:only-of-type {\n",
       "        vertical-align: middle;\n",
       "    }\n",
       "\n",
       "    .dataframe tbody tr th {\n",
       "        vertical-align: top;\n",
       "    }\n",
       "\n",
       "    .dataframe thead th {\n",
       "        text-align: right;\n",
       "    }\n",
       "</style>\n",
       "<table border=\"1\" class=\"dataframe\">\n",
       "  <thead>\n",
       "    <tr style=\"text-align: right;\">\n",
       "      <th></th>\n",
       "      <th>Bandwidth1_Mbps</th>\n",
       "      <th>Rate1_Mbps</th>\n",
       "      <th>date</th>\n",
       "      <th>Utilization1</th>\n",
       "    </tr>\n",
       "  </thead>\n",
       "  <tbody>\n",
       "    <tr>\n",
       "      <th>0</th>\n",
       "      <td>1.0</td>\n",
       "      <td>0.094203</td>\n",
       "      <td>0.000000</td>\n",
       "      <td>0.064818</td>\n",
       "    </tr>\n",
       "    <tr>\n",
       "      <th>1</th>\n",
       "      <td>1.0</td>\n",
       "      <td>0.164596</td>\n",
       "      <td>0.001263</td>\n",
       "      <td>0.113189</td>\n",
       "    </tr>\n",
       "    <tr>\n",
       "      <th>2</th>\n",
       "      <td>1.0</td>\n",
       "      <td>0.105784</td>\n",
       "      <td>0.002525</td>\n",
       "      <td>0.072718</td>\n",
       "    </tr>\n",
       "    <tr>\n",
       "      <th>3</th>\n",
       "      <td>1.0</td>\n",
       "      <td>0.086331</td>\n",
       "      <td>0.003788</td>\n",
       "      <td>0.059336</td>\n",
       "    </tr>\n",
       "    <tr>\n",
       "      <th>4</th>\n",
       "      <td>1.0</td>\n",
       "      <td>0.166612</td>\n",
       "      <td>0.039141</td>\n",
       "      <td>0.114640</td>\n",
       "    </tr>\n",
       "  </tbody>\n",
       "</table>\n",
       "</div>"
      ],
      "text/plain": [
       "   Bandwidth1_Mbps  Rate1_Mbps      date  Utilization1\n",
       "0              1.0    0.094203  0.000000      0.064818\n",
       "1              1.0    0.164596  0.001263      0.113189\n",
       "2              1.0    0.105784  0.002525      0.072718\n",
       "3              1.0    0.086331  0.003788      0.059336\n",
       "4              1.0    0.166612  0.039141      0.114640"
      ]
     },
     "execution_count": 26,
     "metadata": {},
     "output_type": "execute_result"
    }
   ],
   "source": [
    "data.head()"
   ]
  },
  {
   "cell_type": "code",
   "execution_count": 27,
   "id": "d3ec9203",
   "metadata": {},
   "outputs": [],
   "source": [
    "# La matrice de corrélation \n",
    "corr_matrix = data.corr()"
   ]
  },
  {
   "cell_type": "code",
   "execution_count": 28,
   "id": "6eb64de4",
   "metadata": {},
   "outputs": [
    {
     "data": {
      "text/html": [
       "<div>\n",
       "<style scoped>\n",
       "    .dataframe tbody tr th:only-of-type {\n",
       "        vertical-align: middle;\n",
       "    }\n",
       "\n",
       "    .dataframe tbody tr th {\n",
       "        vertical-align: top;\n",
       "    }\n",
       "\n",
       "    .dataframe thead th {\n",
       "        text-align: right;\n",
       "    }\n",
       "</style>\n",
       "<table border=\"1\" class=\"dataframe\">\n",
       "  <thead>\n",
       "    <tr style=\"text-align: right;\">\n",
       "      <th></th>\n",
       "      <th>Bandwidth1_Mbps</th>\n",
       "      <th>Rate1_Mbps</th>\n",
       "      <th>date</th>\n",
       "      <th>Utilization1</th>\n",
       "    </tr>\n",
       "  </thead>\n",
       "  <tbody>\n",
       "    <tr>\n",
       "      <th>Bandwidth1_Mbps</th>\n",
       "      <td>1.000000</td>\n",
       "      <td>-0.028204</td>\n",
       "      <td>0.000748</td>\n",
       "      <td>-0.375180</td>\n",
       "    </tr>\n",
       "    <tr>\n",
       "      <th>Rate1_Mbps</th>\n",
       "      <td>-0.028204</td>\n",
       "      <td>1.000000</td>\n",
       "      <td>0.506473</td>\n",
       "      <td>0.397966</td>\n",
       "    </tr>\n",
       "    <tr>\n",
       "      <th>date</th>\n",
       "      <td>0.000748</td>\n",
       "      <td>0.506473</td>\n",
       "      <td>1.000000</td>\n",
       "      <td>0.245548</td>\n",
       "    </tr>\n",
       "    <tr>\n",
       "      <th>Utilization1</th>\n",
       "      <td>-0.375180</td>\n",
       "      <td>0.397966</td>\n",
       "      <td>0.245548</td>\n",
       "      <td>1.000000</td>\n",
       "    </tr>\n",
       "  </tbody>\n",
       "</table>\n",
       "</div>"
      ],
      "text/plain": [
       "                 Bandwidth1_Mbps  Rate1_Mbps      date  Utilization1\n",
       "Bandwidth1_Mbps         1.000000   -0.028204  0.000748     -0.375180\n",
       "Rate1_Mbps             -0.028204    1.000000  0.506473      0.397966\n",
       "date                    0.000748    0.506473  1.000000      0.245548\n",
       "Utilization1           -0.375180    0.397966  0.245548      1.000000"
      ]
     },
     "execution_count": 28,
     "metadata": {},
     "output_type": "execute_result"
    }
   ],
   "source": [
    "corr_matrix"
   ]
  },
  {
   "cell_type": "code",
   "execution_count": 29,
   "id": "ada8c949",
   "metadata": {
    "scrolled": true
   },
   "outputs": [
    {
     "data": {
      "text/plain": [
       "<AxesSubplot:>"
      ]
     },
     "execution_count": 29,
     "metadata": {},
     "output_type": "execute_result"
    },
    {
     "data": {
      "image/png": "[encoded data removed]",
      "text/plain": [
       "<Figure size 2500x2500 with 2 Axes>"
      ]
     },
     "metadata": {
      "needs_background": "light"
     },
     "output_type": "display_data"
    }
   ],
   "source": [
    "plt.figure(figsize=(25,25), dpi=100)\n",
    "sns.heatmap(corr_matrix, annot=True)"
   ]
  },
  {
   "cell_type": "code",
   "execution_count": 30,
   "id": "0ab9f663",
   "metadata": {},
   "outputs": [],
   "source": [
    "# Nous voudrions modeliser la variable utilisation en fonction de Bandwith, rate et date"
   ]
  },
  {
   "cell_type": "markdown",
   "id": "d972b0ec",
   "metadata": {},
   "source": [
    "# Predictions"
   ]
  },
  {
   "cell_type": "markdown",
   "id": "2e2098c3",
   "metadata": {},
   "source": [
    "## Random forest"
   ]
  },
  {
   "cell_type": "markdown",
   "id": "020b9e48",
   "metadata": {},
   "source": [
    "Nous pourrions utiliser un regresseur de type foret aléatoire pour prédire le taux d'utilisation comme variable continue."
   ]
  },
  {
   "cell_type": "code",
   "execution_count": 31,
   "id": "f2c5bda5",
   "metadata": {},
   "outputs": [],
   "source": [
    "# Imports\n",
    "from tensorflow import keras\n",
    "from sklearn.model_selection import train_test_split\n",
    "from sklearn.ensemble import RandomForestRegressor"
   ]
  },
  {
   "cell_type": "code",
   "execution_count": 32,
   "id": "02850022",
   "metadata": {},
   "outputs": [
    {
     "data": {
      "text/html": [
       "<div>\n",
       "<style scoped>\n",
       "    .dataframe tbody tr th:only-of-type {\n",
       "        vertical-align: middle;\n",
       "    }\n",
       "\n",
       "    .dataframe tbody tr th {\n",
       "        vertical-align: top;\n",
       "    }\n",
       "\n",
       "    .dataframe thead th {\n",
       "        text-align: right;\n",
       "    }\n",
       "</style>\n",
       "<table border=\"1\" class=\"dataframe\">\n",
       "  <thead>\n",
       "    <tr style=\"text-align: right;\">\n",
       "      <th></th>\n",
       "      <th>Bandwidth1_Mbps</th>\n",
       "      <th>Rate1_Mbps</th>\n",
       "      <th>date</th>\n",
       "      <th>Utilization1</th>\n",
       "    </tr>\n",
       "  </thead>\n",
       "  <tbody>\n",
       "    <tr>\n",
       "      <th>0</th>\n",
       "      <td>1.0</td>\n",
       "      <td>0.094203</td>\n",
       "      <td>0.000000</td>\n",
       "      <td>0.064818</td>\n",
       "    </tr>\n",
       "    <tr>\n",
       "      <th>1</th>\n",
       "      <td>1.0</td>\n",
       "      <td>0.164596</td>\n",
       "      <td>0.001263</td>\n",
       "      <td>0.113189</td>\n",
       "    </tr>\n",
       "    <tr>\n",
       "      <th>2</th>\n",
       "      <td>1.0</td>\n",
       "      <td>0.105784</td>\n",
       "      <td>0.002525</td>\n",
       "      <td>0.072718</td>\n",
       "    </tr>\n",
       "    <tr>\n",
       "      <th>3</th>\n",
       "      <td>1.0</td>\n",
       "      <td>0.086331</td>\n",
       "      <td>0.003788</td>\n",
       "      <td>0.059336</td>\n",
       "    </tr>\n",
       "    <tr>\n",
       "      <th>4</th>\n",
       "      <td>1.0</td>\n",
       "      <td>0.166612</td>\n",
       "      <td>0.039141</td>\n",
       "      <td>0.114640</td>\n",
       "    </tr>\n",
       "  </tbody>\n",
       "</table>\n",
       "</div>"
      ],
      "text/plain": [
       "   Bandwidth1_Mbps  Rate1_Mbps      date  Utilization1\n",
       "0              1.0    0.094203  0.000000      0.064818\n",
       "1              1.0    0.164596  0.001263      0.113189\n",
       "2              1.0    0.105784  0.002525      0.072718\n",
       "3              1.0    0.086331  0.003788      0.059336\n",
       "4              1.0    0.166612  0.039141      0.114640"
      ]
     },
     "execution_count": 32,
     "metadata": {},
     "output_type": "execute_result"
    }
   ],
   "source": [
    "data.head()"
   ]
  },
  {
   "cell_type": "code",
   "execution_count": 33,
   "id": "44ca8cd4",
   "metadata": {},
   "outputs": [],
   "source": [
    "# Separer les variables du label à nouveau\n",
    "X , y = data.drop(columns=\"Utilization1\"), data[\"Utilization1\"]"
   ]
  },
  {
   "cell_type": "code",
   "execution_count": 34,
   "id": "4d172a03",
   "metadata": {},
   "outputs": [
    {
     "data": {
      "text/plain": [
       "0    0.064818\n",
       "1    0.113189\n",
       "2    0.072718\n",
       "3    0.059336\n",
       "4    0.114640\n",
       "Name: Utilization1, dtype: float64"
      ]
     },
     "execution_count": 34,
     "metadata": {},
     "output_type": "execute_result"
    }
   ],
   "source": [
    "y.head()"
   ]
  },
  {
   "cell_type": "code",
   "execution_count": 35,
   "id": "7cc68fd8",
   "metadata": {},
   "outputs": [
    {
     "data": {
      "text/html": [
       "<div>\n",
       "<style scoped>\n",
       "    .dataframe tbody tr th:only-of-type {\n",
       "        vertical-align: middle;\n",
       "    }\n",
       "\n",
       "    .dataframe tbody tr th {\n",
       "        vertical-align: top;\n",
       "    }\n",
       "\n",
       "    .dataframe thead th {\n",
       "        text-align: right;\n",
       "    }\n",
       "</style>\n",
       "<table border=\"1\" class=\"dataframe\">\n",
       "  <thead>\n",
       "    <tr style=\"text-align: right;\">\n",
       "      <th></th>\n",
       "      <th>Bandwidth1_Mbps</th>\n",
       "      <th>Rate1_Mbps</th>\n",
       "      <th>date</th>\n",
       "    </tr>\n",
       "  </thead>\n",
       "  <tbody>\n",
       "    <tr>\n",
       "      <th>0</th>\n",
       "      <td>1.0</td>\n",
       "      <td>0.094203</td>\n",
       "      <td>0.000000</td>\n",
       "    </tr>\n",
       "    <tr>\n",
       "      <th>1</th>\n",
       "      <td>1.0</td>\n",
       "      <td>0.164596</td>\n",
       "      <td>0.001263</td>\n",
       "    </tr>\n",
       "    <tr>\n",
       "      <th>2</th>\n",
       "      <td>1.0</td>\n",
       "      <td>0.105784</td>\n",
       "      <td>0.002525</td>\n",
       "    </tr>\n",
       "    <tr>\n",
       "      <th>3</th>\n",
       "      <td>1.0</td>\n",
       "      <td>0.086331</td>\n",
       "      <td>0.003788</td>\n",
       "    </tr>\n",
       "    <tr>\n",
       "      <th>4</th>\n",
       "      <td>1.0</td>\n",
       "      <td>0.166612</td>\n",
       "      <td>0.039141</td>\n",
       "    </tr>\n",
       "  </tbody>\n",
       "</table>\n",
       "</div>"
      ],
      "text/plain": [
       "   Bandwidth1_Mbps  Rate1_Mbps      date\n",
       "0              1.0    0.094203  0.000000\n",
       "1              1.0    0.164596  0.001263\n",
       "2              1.0    0.105784  0.002525\n",
       "3              1.0    0.086331  0.003788\n",
       "4              1.0    0.166612  0.039141"
      ]
     },
     "execution_count": 35,
     "metadata": {},
     "output_type": "execute_result"
    }
   ],
   "source": [
    "X.head()"
   ]
  },
  {
   "cell_type": "code",
   "execution_count": 36,
   "id": "624be7d8",
   "metadata": {},
   "outputs": [],
   "source": [
    "# Split data\n",
    "# Separer les données d'entrainemnt et du test à 20%.\n",
    "X_train, X_test, y_train, y_test = train_test_split(X, y, random_state=42, test_size=0.2)"
   ]
  },
  {
   "cell_type": "code",
   "execution_count": 37,
   "id": "27191b3d",
   "metadata": {},
   "outputs": [
    {
     "data": {
      "text/plain": [
       "RandomForestRegressor(random_state=100)"
      ]
     },
     "execution_count": 37,
     "metadata": {},
     "output_type": "execute_result"
    }
   ],
   "source": [
    "#Déclaration du RandomForest\n",
    "\n",
    "randomforest = RandomForestRegressor(n_estimators=100, random_state=100)\n",
    "randomforest.fit(X_train, y_train)"
   ]
  },
  {
   "cell_type": "code",
   "execution_count": 38,
   "id": "8c922e6d",
   "metadata": {},
   "outputs": [],
   "source": [
    "#Calcul de la performance du RandomForest en cross-validation\n",
    "y_pred = randomforest.predict(X_test)"
   ]
  },
  {
   "cell_type": "code",
   "execution_count": 39,
   "id": "ff6519b7",
   "metadata": {},
   "outputs": [],
   "source": [
    "# Import de la fonction \"Erreur quadratique moyen\"\n",
    "from sklearn.metrics import mean_squared_error"
   ]
  },
  {
   "cell_type": "code",
   "execution_count": 40,
   "id": "ff561ad5",
   "metadata": {},
   "outputs": [],
   "source": [
    "RSME = np.sqrt(mean_squared_error(y_test, y_pred))"
   ]
  },
  {
   "cell_type": "code",
   "execution_count": 41,
   "id": "2ac03f2b",
   "metadata": {},
   "outputs": [
    {
     "name": "stdout",
     "output_type": "stream",
     "text": [
      "RSME = 0.146\n"
     ]
    }
   ],
   "source": [
    "print(f\"RSME = {RSME:.3f}\")"
   ]
  },
  {
   "cell_type": "code",
   "execution_count": 42,
   "id": "f350cad1",
   "metadata": {},
   "outputs": [],
   "source": [
    "# RSME : c'est l'erreur quadratique moyenne."
   ]
  },
  {
   "cell_type": "code",
   "execution_count": 43,
   "id": "933b260c",
   "metadata": {},
   "outputs": [
    {
     "data": {
      "text/plain": [
       "Text(0, 0.5, 'Y pred')"
      ]
     },
     "execution_count": 43,
     "metadata": {},
     "output_type": "execute_result"
    },
    {
     "data": {
      "image/png": "[encoded data removed]",
      "text/plain": [
       "<Figure size 432x288 with 1 Axes>"
      ]
     },
     "metadata": {
      "needs_background": "light"
     },
     "output_type": "display_data"
    }
   ],
   "source": [
    "plt.scatter(y_test, y_pred, color=\"red\")\n",
    "plt.xlabel(\"Y test\")\n",
    "plt.ylabel(\"Y pred\")"
   ]
  },
  {
   "cell_type": "markdown",
   "id": "f956a9bf",
   "metadata": {},
   "source": [
    "Nous faisons une erreur de prédiction inferieure à 0.146."
   ]
  },
  {
   "cell_type": "code",
   "execution_count": 44,
   "id": "d1152e11",
   "metadata": {},
   "outputs": [],
   "source": [
    "# Entrer un user test (pour faire la prediction): Brand, rate et date\n",
    "user_test = [[360.44, 150, \"2022-08-6\"]]\n",
    "user_test = pd.DataFrame(user_test, columns=[\"Bandwidth1_Mbps\", \"Rate1_Mbps\", \"date\"])"
   ]
  },
  {
   "cell_type": "code",
   "execution_count": 45,
   "id": "b70b2cf9",
   "metadata": {},
   "outputs": [
    {
     "data": {
      "text/html": [
       "<div>\n",
       "<style scoped>\n",
       "    .dataframe tbody tr th:only-of-type {\n",
       "        vertical-align: middle;\n",
       "    }\n",
       "\n",
       "    .dataframe tbody tr th {\n",
       "        vertical-align: top;\n",
       "    }\n",
       "\n",
       "    .dataframe thead th {\n",
       "        text-align: right;\n",
       "    }\n",
       "</style>\n",
       "<table border=\"1\" class=\"dataframe\">\n",
       "  <thead>\n",
       "    <tr style=\"text-align: right;\">\n",
       "      <th></th>\n",
       "      <th>Bandwidth1_Mbps</th>\n",
       "      <th>Rate1_Mbps</th>\n",
       "      <th>date</th>\n",
       "    </tr>\n",
       "  </thead>\n",
       "  <tbody>\n",
       "    <tr>\n",
       "      <th>0</th>\n",
       "      <td>360.44</td>\n",
       "      <td>150</td>\n",
       "      <td>2022-08-6</td>\n",
       "    </tr>\n",
       "  </tbody>\n",
       "</table>\n",
       "</div>"
      ],
      "text/plain": [
       "   Bandwidth1_Mbps  Rate1_Mbps       date\n",
       "0           360.44         150  2022-08-6"
      ]
     },
     "execution_count": 45,
     "metadata": {},
     "output_type": "execute_result"
    }
   ],
   "source": [
    "user_test"
   ]
  },
  {
   "cell_type": "code",
   "execution_count": 46,
   "id": "cb05855c",
   "metadata": {},
   "outputs": [],
   "source": [
    "# changer le type de date et normaliser pour entrer au modèle \n",
    "user_test[\"date\"] = pd.to_datetime(user_test[\"date\"]) \n",
    "user_test[\"date\"] = pd.to_numeric(user_test[\"date\"])\n",
    "user_test_norm = minmax_scale_X.transform(user_test)"
   ]
  },
  {
   "cell_type": "code",
   "execution_count": 47,
   "id": "4864b3da",
   "metadata": {},
   "outputs": [
    {
     "data": {
      "text/plain": [
       "array([[1.        , 0.1653113 , 0.73484848]])"
      ]
     },
     "execution_count": 47,
     "metadata": {},
     "output_type": "execute_result"
    }
   ],
   "source": [
    "user_test_norm"
   ]
  },
  {
   "cell_type": "code",
   "execution_count": 48,
   "id": "edb14e08",
   "metadata": {},
   "outputs": [],
   "source": [
    "# Predir avec le modèle random forest entraîner \n",
    "user_prediction = randomforest.predict(user_test_norm)"
   ]
  },
  {
   "cell_type": "code",
   "execution_count": 49,
   "id": "0796a7b8",
   "metadata": {},
   "outputs": [
    {
     "data": {
      "text/plain": [
       "array([0.20697517])"
      ]
     },
     "execution_count": 49,
     "metadata": {},
     "output_type": "execute_result"
    }
   ],
   "source": [
    "user_prediction"
   ]
  },
  {
   "cell_type": "code",
   "execution_count": 50,
   "id": "013f4298",
   "metadata": {},
   "outputs": [],
   "source": [
    "# Remettre à l'echelle la prédiction \n",
    "user_prediction = minmax_scale_y.inverse_transform([user_prediction])"
   ]
  },
  {
   "cell_type": "code",
   "execution_count": 51,
   "id": "c0528242",
   "metadata": {},
   "outputs": [
    {
     "data": {
      "text/plain": [
       "array([[47.3966]])"
      ]
     },
     "execution_count": 51,
     "metadata": {},
     "output_type": "execute_result"
    }
   ],
   "source": [
    "# Afficher la prediction\n",
    "user_prediction"
   ]
  },
  {
   "cell_type": "markdown",
   "id": "3ab35742",
   "metadata": {},
   "source": [
    "Nous prédisons une utilisation de *47.42 %* pour brand = 360.44. rate = 150 en date de 2022-08-6"
   ]
  },
  {
   "cell_type": "markdown",
   "id": "02e22017",
   "metadata": {},
   "source": [
    "## Reseau de neurones "
   ]
  },
  {
   "cell_type": "code",
   "execution_count": 52,
   "id": "8a40d358",
   "metadata": {},
   "outputs": [],
   "source": [
    "# import \n",
    "import tensorflow as tf\n",
    "from tensorflow.keras.models import Sequential\n",
    "from tensorflow.keras.layers import Dense"
   ]
  },
  {
   "cell_type": "code",
   "execution_count": 53,
   "id": "305ab768",
   "metadata": {},
   "outputs": [
    {
     "name": "stdout",
     "output_type": "stream",
     "text": [
      "Epoch 1/100\n",
      "3/3 [==============================] - 0s 47ms/step - loss: 0.0753 - val_loss: 0.0699\n",
      "Epoch 2/100\n",
      "3/3 [==============================] - 0s 5ms/step - loss: 0.0687 - val_loss: 0.0761\n",
      "Epoch 3/100\n",
      "3/3 [==============================] - 0s 1ms/step - loss: 0.0654 - val_loss: 0.0699\n",
      "Epoch 4/100\n",
      "3/3 [==============================] - 0s 5ms/step - loss: 0.0623 - val_loss: 0.0625\n",
      "Epoch 5/100\n",
      "3/3 [==============================] - 0s 5ms/step - loss: 0.0615 - val_loss: 0.0601\n",
      "Epoch 6/100\n",
      "3/3 [==============================] - 0s 5ms/step - loss: 0.0617 - val_loss: 0.0591\n",
      "Epoch 7/100\n",
      "3/3 [==============================] - 0s 6ms/step - loss: 0.0609 - val_loss: 0.0596\n",
      "Epoch 8/100\n",
      "3/3 [==============================] - 0s 5ms/step - loss: 0.0592 - val_loss: 0.0597\n",
      "Epoch 9/100\n",
      "3/3 [==============================] - 0s 10ms/step - loss: 0.0582 - val_loss: 0.0590\n",
      "Epoch 10/100\n",
      "3/3 [==============================] - 0s 5ms/step - loss: 0.0575 - val_loss: 0.0572\n",
      "Epoch 11/100\n",
      "3/3 [==============================] - 0s 11ms/step - loss: 0.0571 - val_loss: 0.0561\n",
      "Epoch 12/100\n",
      "3/3 [==============================] - 0s 10ms/step - loss: 0.0561 - val_loss: 0.0565\n",
      "Epoch 13/100\n",
      "3/3 [==============================] - 0s 10ms/step - loss: 0.0555 - val_loss: 0.0561\n",
      "Epoch 14/100\n",
      "3/3 [==============================] - 0s 5ms/step - loss: 0.0558 - val_loss: 0.0565\n",
      "Epoch 15/100\n",
      "3/3 [==============================] - 0s 6ms/step - loss: 0.0545 - val_loss: 0.0538\n",
      "Epoch 16/100\n",
      "3/3 [==============================] - 0s 11ms/step - loss: 0.0542 - val_loss: 0.0515\n",
      "Epoch 17/100\n",
      "3/3 [==============================] - 0s 10ms/step - loss: 0.0536 - val_loss: 0.0511\n",
      "Epoch 18/100\n",
      "3/3 [==============================] - 0s 7ms/step - loss: 0.0531 - val_loss: 0.0507\n",
      "Epoch 19/100\n",
      "3/3 [==============================] - 0s 5ms/step - loss: 0.0528 - val_loss: 0.0520\n",
      "Epoch 20/100\n",
      "3/3 [==============================] - 0s 10ms/step - loss: 0.0520 - val_loss: 0.0510\n",
      "Epoch 21/100\n",
      "3/3 [==============================] - 0s 5ms/step - loss: 0.0523 - val_loss: 0.0482\n",
      "Epoch 22/100\n",
      "3/3 [==============================] - ETA: 0s - loss: 0.059 - 0s 5ms/step - loss: 0.0508 - val_loss: 0.0481\n",
      "Epoch 23/100\n",
      "3/3 [==============================] - 0s 10ms/step - loss: 0.0506 - val_loss: 0.0473\n",
      "Epoch 24/100\n",
      "3/3 [==============================] - 0s 5ms/step - loss: 0.0499 - val_loss: 0.0477\n",
      "Epoch 25/100\n",
      "3/3 [==============================] - 0s 5ms/step - loss: 0.0496 - val_loss: 0.0467\n",
      "Epoch 26/100\n",
      "3/3 [==============================] - 0s 11ms/step - loss: 0.0487 - val_loss: 0.0439\n",
      "Epoch 27/100\n",
      "3/3 [==============================] - 0s 5ms/step - loss: 0.0486 - val_loss: 0.0425\n",
      "Epoch 28/100\n",
      "3/3 [==============================] - 0s 5ms/step - loss: 0.0478 - val_loss: 0.0431\n",
      "Epoch 29/100\n",
      "3/3 [==============================] - 0s 10ms/step - loss: 0.0475 - val_loss: 0.0441\n",
      "Epoch 30/100\n",
      "3/3 [==============================] - 0s 5ms/step - loss: 0.0472 - val_loss: 0.0414\n",
      "Epoch 31/100\n",
      "3/3 [==============================] - 0s 5ms/step - loss: 0.0464 - val_loss: 0.0394\n",
      "Epoch 32/100\n",
      "3/3 [==============================] - 0s 10ms/step - loss: 0.0462 - val_loss: 0.0386\n",
      "Epoch 33/100\n",
      "3/3 [==============================] - 0s 11ms/step - loss: 0.0458 - val_loss: 0.0384\n",
      "Epoch 34/100\n",
      "3/3 [==============================] - ETA: 0s - loss: 0.064 - 0s 5ms/step - loss: 0.0452 - val_loss: 0.0378\n",
      "Epoch 35/100\n",
      "3/3 [==============================] - 0s 5ms/step - loss: 0.0447 - val_loss: 0.0364\n",
      "Epoch 36/100\n",
      "3/3 [==============================] - 0s 5ms/step - loss: 0.0442 - val_loss: 0.0351\n",
      "Epoch 37/100\n",
      "3/3 [==============================] - 0s 7ms/step - loss: 0.0440 - val_loss: 0.0347\n",
      "Epoch 38/100\n",
      "3/3 [==============================] - 0s 9ms/step - loss: 0.0438 - val_loss: 0.0348\n",
      "Epoch 39/100\n",
      "3/3 [==============================] - ETA: 0s - loss: 0.053 - 0s 10ms/step - loss: 0.0430 - val_loss: 0.0325\n",
      "Epoch 40/100\n",
      "3/3 [==============================] - 0s 10ms/step - loss: 0.0429 - val_loss: 0.0313\n",
      "Epoch 41/100\n",
      "3/3 [==============================] - 0s 5ms/step - loss: 0.0430 - val_loss: 0.0315\n",
      "Epoch 42/100\n",
      "3/3 [==============================] - 0s 10ms/step - loss: 0.0425 - val_loss: 0.0308\n",
      "Epoch 43/100\n",
      "3/3 [==============================] - 0s 5ms/step - loss: 0.0420 - val_loss: 0.0300\n",
      "Epoch 44/100\n",
      "3/3 [==============================] - 0s 5ms/step - loss: 0.0420 - val_loss: 0.0295\n",
      "Epoch 45/100\n",
      "3/3 [==============================] - 0s 11ms/step - loss: 0.0419 - val_loss: 0.0293\n",
      "Epoch 46/100\n",
      "3/3 [==============================] - 0s 10ms/step - loss: 0.0415 - val_loss: 0.0284\n",
      "Epoch 47/100\n",
      "3/3 [==============================] - 0s 5ms/step - loss: 0.0426 - val_loss: 0.0283\n",
      "Epoch 48/100\n",
      "3/3 [==============================] - 0s 7ms/step - loss: 0.0413 - val_loss: 0.0318\n",
      "Epoch 49/100\n",
      "3/3 [==============================] - 0s 8ms/step - loss: 0.0419 - val_loss: 0.0295\n",
      "Epoch 50/100\n",
      "3/3 [==============================] - 0s 5ms/step - loss: 0.0422 - val_loss: 0.0268\n",
      "Epoch 51/100\n",
      "3/3 [==============================] - 0s 5ms/step - loss: 0.0414 - val_loss: 0.0300\n",
      "Epoch 52/100\n",
      "3/3 [==============================] - 0s 11ms/step - loss: 0.0409 - val_loss: 0.0303\n",
      "Epoch 53/100\n",
      "3/3 [==============================] - 0s 5ms/step - loss: 0.0409 - val_loss: 0.0299\n",
      "Epoch 54/100\n",
      "3/3 [==============================] - 0s 10ms/step - loss: 0.0404 - val_loss: 0.0280\n",
      "Epoch 55/100\n",
      "3/3 [==============================] - 0s 5ms/step - loss: 0.0408 - val_loss: 0.0296\n",
      "Epoch 56/100\n",
      "3/3 [==============================] - 0s 11ms/step - loss: 0.0402 - val_loss: 0.0288\n",
      "Epoch 57/100\n",
      "3/3 [==============================] - 0s 4ms/step - loss: 0.0401 - val_loss: 0.0291\n",
      "Epoch 58/100\n",
      "3/3 [==============================] - 0s 10ms/step - loss: 0.0399 - val_loss: 0.0297\n",
      "Epoch 59/100\n",
      "3/3 [==============================] - 0s 5ms/step - loss: 0.0400 - val_loss: 0.0296\n",
      "Epoch 60/100\n",
      "3/3 [==============================] - 0s 5ms/step - loss: 0.0399 - val_loss: 0.0291\n",
      "Epoch 61/100\n",
      "3/3 [==============================] - 0s 11ms/step - loss: 0.0396 - val_loss: 0.0297\n",
      "Epoch 62/100\n",
      "3/3 [==============================] - 0s 5ms/step - loss: 0.0400 - val_loss: 0.0295\n",
      "Epoch 63/100\n",
      "3/3 [==============================] - 0s 5ms/step - loss: 0.0395 - val_loss: 0.0286\n",
      "Epoch 64/100\n",
      "3/3 [==============================] - 0s 10ms/step - loss: 0.0395 - val_loss: 0.0289\n",
      "Epoch 65/100\n",
      "3/3 [==============================] - 0s 5ms/step - loss: 0.0398 - val_loss: 0.0290\n",
      "Epoch 66/100\n",
      "3/3 [==============================] - ETA: 0s - loss: 0.042 - 0s 5ms/step - loss: 0.0392 - val_loss: 0.0314\n",
      "Epoch 67/100\n",
      "3/3 [==============================] - 0s 10ms/step - loss: 0.0394 - val_loss: 0.0292\n",
      "Epoch 68/100\n",
      "3/3 [==============================] - 0s 5ms/step - loss: 0.0392 - val_loss: 0.0286\n",
      "Epoch 69/100\n",
      "3/3 [==============================] - 0s 5ms/step - loss: 0.0396 - val_loss: 0.0305\n",
      "Epoch 70/100\n",
      "3/3 [==============================] - 0s 5ms/step - loss: 0.0387 - val_loss: 0.0285\n",
      "Epoch 71/100\n",
      "3/3 [==============================] - 0s 4ms/step - loss: 0.0391 - val_loss: 0.0285\n",
      "Epoch 72/100\n",
      "3/3 [==============================] - 0s 10ms/step - loss: 0.0385 - val_loss: 0.0306\n",
      "Epoch 73/100\n",
      "3/3 [==============================] - 0s 5ms/step - loss: 0.0391 - val_loss: 0.0305\n",
      "Epoch 74/100\n",
      "3/3 [==============================] - 0s 5ms/step - loss: 0.0384 - val_loss: 0.0271\n",
      "Epoch 75/100\n",
      "3/3 [==============================] - 0s 5ms/step - loss: 0.0399 - val_loss: 0.0275\n",
      "Epoch 76/100\n",
      "3/3 [==============================] - 0s 10ms/step - loss: 0.0382 - val_loss: 0.0329\n",
      "Epoch 77/100\n",
      "3/3 [==============================] - 0s 5ms/step - loss: 0.0392 - val_loss: 0.0310\n",
      "Epoch 78/100\n",
      "3/3 [==============================] - 0s 5ms/step - loss: 0.0383 - val_loss: 0.0268\n",
      "Epoch 79/100\n",
      "3/3 [==============================] - 0s 11ms/step - loss: 0.0384 - val_loss: 0.0286\n",
      "Epoch 80/100\n",
      "3/3 [==============================] - 0s 5ms/step - loss: 0.0379 - val_loss: 0.0304\n",
      "Epoch 81/100\n",
      "3/3 [==============================] - 0s 10ms/step - loss: 0.0379 - val_loss: 0.0314\n",
      "Epoch 82/100\n",
      "3/3 [==============================] - 0s 10ms/step - loss: 0.0383 - val_loss: 0.0287\n",
      "Epoch 83/100\n",
      "3/3 [==============================] - 0s 5ms/step - loss: 0.0377 - val_loss: 0.0296\n",
      "Epoch 84/100\n",
      "3/3 [==============================] - 0s 5ms/step - loss: 0.0378 - val_loss: 0.0319\n",
      "Epoch 85/100\n",
      "3/3 [==============================] - 0s 5ms/step - loss: 0.0374 - val_loss: 0.0287\n",
      "Epoch 86/100\n",
      "3/3 [==============================] - 0s 5ms/step - loss: 0.0377 - val_loss: 0.0285\n",
      "Epoch 87/100\n",
      "3/3 [==============================] - ETA: 0s - loss: 0.033 - 0s 5ms/step - loss: 0.0372 - val_loss: 0.0315\n",
      "Epoch 88/100\n",
      "3/3 [==============================] - 0s 5ms/step - loss: 0.0376 - val_loss: 0.0299\n",
      "Epoch 89/100\n",
      "3/3 [==============================] - 0s 5ms/step - loss: 0.0376 - val_loss: 0.0289\n",
      "Epoch 90/100\n",
      "3/3 [==============================] - ETA: 0s - loss: 0.034 - 0s 10ms/step - loss: 0.0367 - val_loss: 0.0302\n",
      "Epoch 91/100\n",
      "3/3 [==============================] - 0s 11ms/step - loss: 0.0364 - val_loss: 0.0291\n",
      "Epoch 92/100\n",
      "3/3 [==============================] - 0s 10ms/step - loss: 0.0366 - val_loss: 0.0276\n",
      "Epoch 93/100\n",
      "3/3 [==============================] - 0s 5ms/step - loss: 0.0369 - val_loss: 0.0287\n",
      "Epoch 94/100\n",
      "3/3 [==============================] - 0s 5ms/step - loss: 0.0354 - val_loss: 0.0341\n",
      "Epoch 95/100\n",
      "3/3 [==============================] - 0s 11ms/step - loss: 0.0364 - val_loss: 0.0310\n",
      "Epoch 96/100\n",
      "3/3 [==============================] - ETA: 0s - loss: 0.043 - 0s 5ms/step - loss: 0.0355 - val_loss: 0.0275\n",
      "Epoch 97/100\n",
      "3/3 [==============================] - 0s 10ms/step - loss: 0.0356 - val_loss: 0.0296\n",
      "Epoch 98/100\n",
      "3/3 [==============================] - 0s 5ms/step - loss: 0.0358 - val_loss: 0.0311\n",
      "Epoch 99/100\n",
      "3/3 [==============================] - 0s 6ms/step - loss: 0.0349 - val_loss: 0.0273\n",
      "Epoch 100/100\n",
      "3/3 [==============================] - 0s 10ms/step - loss: 0.0357 - val_loss: 0.0265\n"
     ]
    }
   ],
   "source": [
    "# Définition du modèle\n",
    "model = Sequential()\n",
    "input_dim = 3 # Nombre de variables \n",
    "\n",
    "# Couche d'entrée\n",
    "model.add(Dense(32, activation='relu', input_shape=(input_dim,)))\n",
    "\n",
    "# Ajout de couches cachées\n",
    "model.add(Dense(64, activation='relu'))\n",
    "model.add(Dense(64, activation='relu'))\n",
    "\n",
    "# Couche de sortie\n",
    "model.add(Dense(1, activation='linear'))\n",
    "\n",
    "# Compilation du modèle\n",
    "model.compile(optimizer='adam', loss='mean_squared_error')\n",
    "\n",
    "# Entraînement du modèle\n",
    "History = model.fit(X_train, y_train, epochs=100, batch_size=32, validation_data=(X_test, y_test))\n"
   ]
  },
  {
   "cell_type": "code",
   "execution_count": 54,
   "id": "3e5b66d7",
   "metadata": {},
   "outputs": [
    {
     "name": "stdout",
     "output_type": "stream",
     "text": [
      "1/1 [==============================] - 0s 0s/step - loss: 0.0265\n",
      "Erreur quadratique moyen: 0.026461660861968994\n"
     ]
    }
   ],
   "source": [
    "# Évaluation du modèle\n",
    "mse = model.evaluate(X_test, y_test)\n",
    "print('Erreur quadratique moyen:', mse)"
   ]
  },
  {
   "cell_type": "code",
   "execution_count": 55,
   "id": "2175b841",
   "metadata": {},
   "outputs": [
    {
     "data": {
      "image/png": "[encoded data removed]",
      "text/plain": [
       "<Figure size 432x288 with 1 Axes>"
      ]
     },
     "metadata": {
      "needs_background": "light"
     },
     "output_type": "display_data"
    }
   ],
   "source": [
    "# La courbe d'apprentissage\n",
    "\n",
    "train_loss = History.history['loss']\n",
    "val_loss = History.history['val_loss']\n",
    "\n",
    "plt.plot(train_loss, label='Training Loss')\n",
    "plt.plot(val_loss, label='Validation Loss')\n",
    "plt.xlabel('Epochs')\n",
    "plt.ylabel('Loss')\n",
    "plt.legend()\n",
    "plt.show()"
   ]
  },
  {
   "cell_type": "markdown",
   "id": "8e6fb9e0",
   "metadata": {},
   "source": [
    "Le modèle donne de meilleurs résultats sur le jeu de validation que sur le jeu d'entraînement et sont tres proches. le modèle a donc bien apprit.   "
   ]
  },
  {
   "cell_type": "markdown",
   "id": "0dfd51e4",
   "metadata": {},
   "source": [
    "Le modèle se trompe avec un taux d'erreur de 0.0275"
   ]
  },
  {
   "cell_type": "code",
   "execution_count": 56,
   "id": "58754ed6",
   "metadata": {},
   "outputs": [],
   "source": [
    "# Utilisation du modèle pour des prédictions\n",
    "predictions = model.predict(user_test_norm)"
   ]
  },
  {
   "cell_type": "code",
   "execution_count": 57,
   "id": "0015cf92",
   "metadata": {},
   "outputs": [
    {
     "data": {
      "text/plain": [
       "array([[0.25346586]], dtype=float32)"
      ]
     },
     "execution_count": 57,
     "metadata": {},
     "output_type": "execute_result"
    }
   ],
   "source": [
    "predictions"
   ]
  },
  {
   "cell_type": "code",
   "execution_count": 58,
   "id": "0935ecdc",
   "metadata": {},
   "outputs": [],
   "source": [
    "# Remettre à l'echelle la prédiction \n",
    "user_pred = minmax_scale_y.inverse_transform(predictions)"
   ]
  },
  {
   "cell_type": "code",
   "execution_count": 59,
   "id": "17e90617",
   "metadata": {},
   "outputs": [
    {
     "data": {
      "text/plain": [
       "array([[50.279953]], dtype=float32)"
      ]
     },
     "execution_count": 59,
     "metadata": {},
     "output_type": "execute_result"
    }
   ],
   "source": [
    "user_pred"
   ]
  },
  {
   "cell_type": "markdown",
   "id": "3725566d",
   "metadata": {},
   "source": [
    "Nous prédisons une utilisation de *50.30 %* pour brand = 360.44. rate = 150 en date de 2022-08-6"
   ]
  },
  {
   "cell_type": "markdown",
   "id": "48cb9a98",
   "metadata": {},
   "source": [
    "Nous conseillons d'utiliser le modèle basé sur le réseau de neurone pour faire les prédictions."
   ]
  },
  {
   "cell_type": "markdown",
   "id": "8013f22e",
   "metadata": {},
   "source": [
    "__author__ = \"Powered by Orexine\""
   ]
  }
 ],
 "metadata": {
  "kernelspec": {
   "display_name": "Python 3 (ipykernel)",
   "language": "python",
   "name": "python3"
  },
  "language_info": {
   "codemirror_mode": {
    "name": "ipython",
    "version": 3
   },
   "file_extension": ".py",
   "mimetype": "text/x-python",
   "name": "python",
   "nbconvert_exporter": "python",
   "pygments_lexer": "ipython3",
   "version": "3.9.12"
  }
 },
 "nbformat": 4,
 "nbformat_minor": 5
}
